{
 "cells": [
  {
   "cell_type": "markdown",
   "id": "f1e1e6cd",
   "metadata": {},
   "source": [
    "### Problem 1"
   ]
  },
  {
   "cell_type": "code",
   "execution_count": null,
   "id": "1e6ae9a0",
   "metadata": {},
   "outputs": [],
   "source": [
    "# Can name the constraint to acces sensitivity analysis"
   ]
  },
  {
   "cell_type": "markdown",
   "id": "55dcd6ab",
   "metadata": {},
   "source": [
    "## Problem 3"
   ]
  },
  {
   "cell_type": "code",
   "execution_count": 8,
   "id": "fd4a43c7",
   "metadata": {},
   "outputs": [],
   "source": [
    "using Pkg, JuMP, GLPK, XLSX, Gurobi"
   ]
  },
  {
   "cell_type": "code",
   "execution_count": 14,
   "id": "1bb143b3",
   "metadata": {},
   "outputs": [],
   "source": [
    "nb_city = 13;\n",
    "c = XLSX.readdata(\"FRANCE.xlsx\", \"Feuil1\", \"B3:N15\");\n",
    "cities = XLSX.readdata(\"FRANCE.xlsx\", \"Feuil1\", \"A3:A15\");"
   ]
  },
  {
   "cell_type": "code",
   "execution_count": 24,
   "id": "ae16944c",
   "metadata": {},
   "outputs": [],
   "source": [
    "model = Model(GLPK.Optimizer);\n",
    "\n",
    "# Variables\n",
    "@variable(model, x[1:nb_city, 1:nb_city], Bin);\n",
    "relax_integrality(model)\n",
    "\n",
    "# Objective function\n",
    "@objective(model, Min, sum(sum(x[i, j]*c[i, j] for j in 1:nb_city) for i in 1:nb_city));\n",
    "\n",
    "# Constraints\n",
    "for i in 1:nb_city\n",
    "    @constraint(model, sum(x[i, j] for j in 1:nb_city) == 1)\n",
    "end\n",
    "for j in 1:nb_city\n",
    "    @constraint(model, sum(x[i, j] for i in 1:nb_city) == 1)\n",
    "end\n",
    "\n",
    "# Solving\n",
    "optimize!(model)"
   ]
  },
  {
   "cell_type": "code",
   "execution_count": 25,
   "id": "abdcc870",
   "metadata": {},
   "outputs": [
    {
     "name": "stdout",
     "output_type": "stream",
     "text": [
      "2787.0"
     ]
    },
    {
     "data": {
      "text/plain": [
       "13×13 Matrix{Float64}:\n",
       " 0.0  0.0  0.0  0.0  0.0  0.0  0.0  0.0  0.0  0.0  0.0  0.0  1.0\n",
       " 0.0  0.0  0.0  0.0  0.0  0.0  0.0  1.0  0.0  0.0  0.0  0.0  0.0\n",
       " 0.0  0.0  0.0  0.0  0.0  0.0  0.0  0.0  0.0  0.0  0.0  1.0  0.0\n",
       " 0.0  0.0  0.0  0.0  0.0  1.0  0.0  0.0  0.0  0.0  0.0  0.0  0.0\n",
       " 0.0  0.0  0.0  0.0  0.0  0.0  0.0  0.0  0.0  1.0  0.0  0.0  0.0\n",
       " 0.0  0.0  0.0  1.0  0.0  0.0  0.0  0.0  0.0  0.0  0.0  0.0  0.0\n",
       " 0.0  0.0  0.0  0.0  0.0  0.0  0.0  0.0  1.0  0.0  0.0  0.0  0.0\n",
       " 0.0  0.0  0.0  0.0  0.0  0.0  0.0  0.0  0.0  0.0  1.0  0.0  0.0\n",
       " 0.0  0.0  0.0  0.0  0.0  0.0  1.0  0.0  0.0  0.0  0.0  0.0  0.0\n",
       " 0.0  0.0  0.0  0.0  1.0  0.0  0.0  0.0  0.0  0.0  0.0  0.0  0.0\n",
       " 0.0  1.0  0.0  0.0  0.0  0.0  0.0  0.0  0.0  0.0  0.0  0.0  0.0\n",
       " 0.0  0.0  1.0  0.0  0.0  0.0  0.0  0.0  0.0  0.0  0.0  0.0  0.0\n",
       " 1.0  0.0  0.0  0.0  0.0  0.0  0.0  0.0  0.0  0.0  0.0  0.0  0.0"
      ]
     },
     "execution_count": 25,
     "metadata": {},
     "output_type": "execute_result"
    }
   ],
   "source": [
    "# Solution\n",
    "print(objective_value(model))\n",
    "JuMP.value.(x)"
   ]
  },
  {
   "cell_type": "code",
   "execution_count": 17,
   "id": "fe6c781a",
   "metadata": {},
   "outputs": [],
   "source": [
    "# Add a constraint for the cycle Brest, Rennes, Nantes\n",
    "@constraint(model, x[11, 2] + x[2, 11] + x[8, 11] + x[11, 8] + x[2, 8] + x[8, 2] <= 2);\n",
    "@constraint(model, x[11, 2] + x[2, 11] <= 1);\n",
    "@constraint(model, x[8, 2] + x[2, 8] <= 1);\n",
    "@constraint(model, x[11, 8] + x[8, 11] <= 1);"
   ]
  },
  {
   "cell_type": "code",
   "execution_count": 18,
   "id": "a9da760a",
   "metadata": {
    "scrolled": false
   },
   "outputs": [
    {
     "name": "stdout",
     "output_type": "stream",
     "text": [
      "3351.0"
     ]
    },
    {
     "data": {
      "text/plain": [
       "13×13 Matrix{Float64}:\n",
       " 0.0  0.0  0.0  0.0  0.0  0.0  0.0  0.0  0.0  0.0  0.0  0.0  1.0\n",
       " 0.0  0.0  0.0  0.0  0.0  0.0  0.0  1.0  0.0  0.0  0.0  0.0  0.0\n",
       " 0.0  0.0  0.0  0.0  0.0  0.0  0.0  0.0  0.0  0.0  0.0  1.0  0.0\n",
       " 0.0  0.0  0.0  0.0  0.0  1.0  0.0  0.0  0.0  0.0  0.0  0.0  0.0\n",
       " 0.0  0.0  0.0  0.0  0.0  0.0  0.0  0.0  0.0  0.0  1.0  0.0  0.0\n",
       " 0.0  0.0  0.0  1.0  0.0  0.0  0.0  0.0  0.0  0.0  0.0  0.0  0.0\n",
       " 0.0  0.0  0.0  0.0  0.0  0.0  0.0  0.0  1.0  0.0  0.0  0.0  0.0\n",
       " 0.0  0.0  0.0  0.0  0.0  0.0  0.0  0.0  0.0  1.0  0.0  0.0  0.0\n",
       " 0.0  0.0  0.0  0.0  0.0  0.0  1.0  0.0  0.0  0.0  0.0  0.0  0.0\n",
       " 0.0  0.0  0.0  0.0  1.0  0.0  0.0  0.0  0.0  0.0  0.0  0.0  0.0\n",
       " 0.0  1.0  0.0  0.0  0.0  0.0  0.0  0.0  0.0  0.0  0.0  0.0  0.0\n",
       " 0.0  0.0  1.0  0.0  0.0  0.0  0.0  0.0  0.0  0.0  0.0  0.0  0.0\n",
       " 1.0  0.0  0.0  0.0  0.0  0.0  0.0  0.0  0.0  0.0  0.0  0.0  0.0"
      ]
     },
     "execution_count": 18,
     "metadata": {},
     "output_type": "execute_result"
    }
   ],
   "source": [
    "# New solution 1\n",
    "optimize!(model)\n",
    "print(objective_value(model))\n",
    "JuMP.value.(x)"
   ]
  },
  {
   "cell_type": "code",
   "execution_count": 19,
   "id": "d71c4861",
   "metadata": {},
   "outputs": [],
   "source": [
    "# Add new constraints\n",
    "@constraint(model, x[4, 6] + x[6, 4] <= 1);\n",
    "@constraint(model, x[1, 13] + x[13, 1] <= 1);\n",
    "@constraint(model, x[12, 3] + x[3, 12] <= 1);\n",
    "@constraint(model, x[7, 9] + x[9, 7] <= 1);"
   ]
  },
  {
   "cell_type": "code",
   "execution_count": 20,
   "id": "fc932dab",
   "metadata": {},
   "outputs": [
    {
     "name": "stdout",
     "output_type": "stream",
     "text": [
      "3686.0"
     ]
    },
    {
     "data": {
      "text/plain": [
       "13×13 Matrix{Float64}:\n",
       " 0.0  0.0  0.0  0.0  0.0  0.0  0.0  1.0  0.0  0.0  0.0  0.0  0.0\n",
       " 0.0  0.0  0.0  0.0  0.0  0.0  0.0  0.0  0.0  0.0  1.0  0.0  0.0\n",
       " 0.0  0.0  0.0  0.0  0.0  1.0  0.0  0.0  0.0  0.0  0.0  0.0  0.0\n",
       " 0.0  0.0  0.0  0.0  0.0  0.0  0.0  0.0  1.0  0.0  0.0  0.0  0.0\n",
       " 0.0  0.0  0.0  0.0  0.0  0.0  0.0  0.0  0.0  0.0  0.0  1.0  0.0\n",
       " 0.0  0.0  0.0  1.0  0.0  0.0  0.0  0.0  0.0  0.0  0.0  0.0  0.0\n",
       " 0.0  0.0  0.0  0.0  0.0  0.0  0.0  0.0  0.0  0.0  0.0  0.0  1.0\n",
       " 0.0  1.0  0.0  0.0  0.0  0.0  0.0  0.0  0.0  0.0  0.0  0.0  0.0\n",
       " 0.0  0.0  0.0  0.0  0.0  0.0  1.0  0.0  0.0  0.0  0.0  0.0  0.0\n",
       " 0.0  0.0  0.0  0.0  1.0  0.0  0.0  0.0  0.0  0.0  0.0  0.0  0.0\n",
       " 0.0  0.0  0.0  0.0  0.0  0.0  0.0  0.0  0.0  1.0  0.0  0.0  0.0\n",
       " 0.0  0.0  1.0  0.0  0.0  0.0  0.0  0.0  0.0  0.0  0.0  0.0  0.0\n",
       " 1.0  0.0  0.0  0.0  0.0  0.0  0.0  0.0  0.0  0.0  0.0  0.0  0.0"
      ]
     },
     "execution_count": 20,
     "metadata": {},
     "output_type": "execute_result"
    }
   ],
   "source": [
    "# New solution 2\n",
    "optimize!(model)\n",
    "print(objective_value(model))\n",
    "JuMP.value.(x)"
   ]
  },
  {
   "cell_type": "markdown",
   "id": "f7a751d3",
   "metadata": {},
   "source": [
    "### MTZ constraint"
   ]
  },
  {
   "cell_type": "code",
   "execution_count": 27,
   "id": "ea8df651",
   "metadata": {},
   "outputs": [],
   "source": [
    "# Library TSPlib"
   ]
  },
  {
   "cell_type": "code",
   "execution_count": 67,
   "id": "434a3ac4",
   "metadata": {},
   "outputs": [],
   "source": [
    "model2 = Model(GLPK.Optimizer);\n",
    "\n",
    "@variable(model2, x[1:nb_city, 1:nb_city], Bin);\n",
    "@objective(model2, Min, sum(sum(x[i, j]*c[i, j] for j in 1:nb_city) for i in 1:nb_city));\n",
    "relax_integrality(model2)\n",
    "\n",
    "for i in 1:nb_city\n",
    "    @constraint(model2, sum(x[i, j] for j in 1:nb_city) == 1)\n",
    "end\n",
    "for j in 1:nb_city\n",
    "    @constraint(model2, sum(x[i, j] for i in 1:nb_city) == 1)\n",
    "end\n",
    "\n",
    "# Solving\n",
    "optimize!(model2)"
   ]
  },
  {
   "cell_type": "code",
   "execution_count": 68,
   "id": "97aa7181",
   "metadata": {},
   "outputs": [],
   "source": [
    "# Adding MTZ constraints\n",
    "@variable(model2, 2 <= u[i=2:nb_city] <= nb_city)\n",
    "for i in 2:nb_city\n",
    "    for j in 2:nb_city\n",
    "        if i != j\n",
    "            @constraint(model2, u[j]-u[i] >= 1 - (nb_city-1)*(1-x[i, j]))\n",
    "        end\n",
    "    end\n",
    "end"
   ]
  },
  {
   "cell_type": "code",
   "execution_count": 64,
   "id": "740ed85c",
   "metadata": {},
   "outputs": [],
   "source": [
    "# With the new term\n",
    "@variable(model2, 2 <= u[i=2:nb_city] <= nb_city)\n",
    "for i in 2:nb_city\n",
    "    for j in 2:nb_city\n",
    "        if i != j\n",
    "            @constraint(model2, u[j]-u[i] >= 2 - nb_city + (nb_city-1)*x[i, j] + (nb_city-3)*x[j, i])\n",
    "        end\n",
    "    end\n",
    "end"
   ]
  },
  {
   "cell_type": "code",
   "execution_count": 69,
   "id": "31913185",
   "metadata": {},
   "outputs": [],
   "source": [
    "# Strenghten with a constrainst\n",
    "for j in 2:nb_city\n",
    "    @constraint(model2, u[j] <= nb_city-1 + (3-nb_city)*x[1, j] + x[j, 1])\n",
    "    @constraint(model2, u[j] >= 3 - x[1, j] + (nb_city-3)*x[j, 1])\n",
    "end"
   ]
  },
  {
   "cell_type": "code",
   "execution_count": 70,
   "id": "e58159cd",
   "metadata": {},
   "outputs": [
    {
     "name": "stdout",
     "output_type": "stream",
     "text": [
      "3251.000000000002"
     ]
    },
    {
     "data": {
      "text/plain": [
       "13×13 Matrix{Float64}:\n",
       "  0.0          0.0          0.0          …  0.0  0.0          0.5\n",
       "  0.0          0.0          0.0             0.5  0.0          0.0\n",
       "  0.0          0.0          0.0             0.0  1.0          0.0\n",
       "  0.0          0.0          0.0             0.0  0.0          0.0\n",
       "  0.0          0.0          0.0             0.0  2.15639e-15  0.0\n",
       "  0.0          0.0          9.14371e-16  …  0.0  0.0          0.0833333\n",
       "  0.0          0.0          0.0             0.0  0.0          0.416667\n",
       "  0.5          2.28693e-16  0.0             0.5  0.0          0.0\n",
       "  0.0          0.0          0.0             0.0  0.0          0.0\n",
       " -1.21014e-15  0.0          0.166667        0.0  0.0          0.0\n",
       "  0.0          1.0          0.0          …  0.0  0.0          0.0\n",
       "  0.0          0.0          0.833333        0.0  0.0          0.0\n",
       "  0.5          0.0          0.0             0.0  0.0          0.0"
      ]
     },
     "execution_count": 70,
     "metadata": {},
     "output_type": "execute_result"
    }
   ],
   "source": [
    "optimize!(model2)\n",
    "print(objective_value(model2))\n",
    "JuMP.value.(x)\n",
    "# Even better ! 3395, lower bound improved"
   ]
  }
 ],
 "metadata": {
  "kernelspec": {
   "display_name": "Julia 1.9.3",
   "language": "julia",
   "name": "julia-1.9"
  },
  "language_info": {
   "file_extension": ".jl",
   "mimetype": "application/julia",
   "name": "julia",
   "version": "1.9.3"
  }
 },
 "nbformat": 4,
 "nbformat_minor": 5
}
